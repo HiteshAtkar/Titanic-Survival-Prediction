{
 "cells": [
  {
   "cell_type": "code",
   "execution_count": 28,
   "id": "20ef5a64-4157-4cd3-8f9f-95168287ac7b",
   "metadata": {},
   "outputs": [],
   "source": [
    "import numpy as np\n",
    "import pickle\n",
    "import pandas as pd"
   ]
  },
  {
   "cell_type": "code",
   "execution_count": 44,
   "id": "db3c845f-d1b0-4c64-bd79-1ddf27e5c754",
   "metadata": {},
   "outputs": [],
   "source": [
    "pipeline= pickle.load(open('pipeline.pkl','rb'))"
   ]
  },
  {
   "cell_type": "code",
   "execution_count": 45,
   "id": "793899c4-9fa7-472a-8d13-3f7557b609bc",
   "metadata": {},
   "outputs": [],
   "source": [
    "columns_name=['Pclass','Sex','Age','SibSp','Parch','Fare','Embarked']"
   ]
  },
  {
   "cell_type": "code",
   "execution_count": 68,
   "id": "2bb9ac7d-ccbd-48f5-81be-ccaaa318213a",
   "metadata": {},
   "outputs": [],
   "source": [
    "test=pd.DataFrame([[1, 'female', 20.0, 1, 1, 71.2833, 'C']],columns=columns_name)"
   ]
  },
  {
   "cell_type": "code",
   "execution_count": 69,
   "id": "4eaf4242-b17d-43e5-b986-3a12686a1da2",
   "metadata": {},
   "outputs": [
    {
     "name": "stdout",
     "output_type": "stream",
     "text": [
      "Passenger Survived\n"
     ]
    }
   ],
   "source": [
    "prediction=pipeline.predict(test)\n",
    "if prediction[0]==1:\n",
    "    print(\"Passenger Survived\")\n",
    "else:\n",
    "    print(\"Passenger Died\")"
   ]
  },
  {
   "cell_type": "code",
   "execution_count": null,
   "id": "179d6cc0-bcab-4676-b7d5-229a7a8cf850",
   "metadata": {},
   "outputs": [],
   "source": []
  }
 ],
 "metadata": {
  "kernelspec": {
   "display_name": "Python 3 (ipykernel)",
   "language": "python",
   "name": "python3"
  },
  "language_info": {
   "codemirror_mode": {
    "name": "ipython",
    "version": 3
   },
   "file_extension": ".py",
   "mimetype": "text/x-python",
   "name": "python",
   "nbconvert_exporter": "python",
   "pygments_lexer": "ipython3",
   "version": "3.13.2"
  }
 },
 "nbformat": 4,
 "nbformat_minor": 5
}
